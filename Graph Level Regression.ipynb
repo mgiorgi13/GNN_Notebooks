{
  "cells": [
    {
      "cell_type": "markdown",
      "metadata": {
        "id": "view-in-github",
        "colab_type": "text"
      },
      "source": [
        "<a href=\"https://colab.research.google.com/github/mgiorgi13/GNN_Notebooks/blob/main/Graph%20Level%20Regression.ipynb\" target=\"_parent\"><img src=\"https://colab.research.google.com/assets/colab-badge.svg\" alt=\"Open In Colab\"/></a>"
      ]
    },
    {
      "cell_type": "markdown",
      "metadata": {
        "id": "7oJF8jEXZP5v"
      },
      "source": [
        "# Hands on with Graph Neural Networks"
      ]
    },
    {
      "cell_type": "markdown",
      "metadata": {
        "id": "YFOzk02_zE9r",
        "jp-MarkdownHeadingCollapsed": true
      },
      "source": [
        "## Setup"
      ]
    },
    {
      "cell_type": "code",
      "execution_count": 1,
      "metadata": {
        "id": "sGqML8RWVT8s"
      },
      "outputs": [],
      "source": [
        "#Colab\n",
        "#from google.colab import drive\n",
        "#drive.mount('/content/drive')\n",
        "#GNN_PATH = '/content/drive/MyDrive/Colab Notebooks/GNN/'\n",
        "\n",
        "#HPC\n",
        "GNN_PATH = './Colab Notebooks/GNN/'\n",
        "import os\n",
        "if not os.path.exists(GNN_PATH):\n",
        "    os.makedirs(GNN_PATH)"
      ]
    },
    {
      "cell_type": "markdown",
      "metadata": {
        "id": "o4TLPMJGVDQy"
      },
      "source": [
        "- Pytorch Geometric => Build Graph Neural Network\n",
        "- RDKit => Handle Molecule Data"
      ]
    },
    {
      "cell_type": "code",
      "execution_count": 2,
      "metadata": {
        "colab": {
          "base_uri": "https://localhost:8080/"
        },
        "id": "4sVC_wgOzglG",
        "outputId": "a5161e9a-78ce-4614-faf1-df278fe779c0"
      },
      "outputs": [
        {
          "output_type": "stream",
          "name": "stdout",
          "text": [
            "Collecting rdkit\n",
            "  Downloading rdkit-2024.9.6-cp311-cp311-manylinux_2_28_x86_64.whl.metadata (4.0 kB)\n",
            "Requirement already satisfied: torch in /usr/local/lib/python3.11/dist-packages (2.6.0+cu124)\n",
            "Collecting torch-geometric\n",
            "  Downloading torch_geometric-2.6.1-py3-none-any.whl.metadata (63 kB)\n",
            "\u001b[2K     \u001b[90m━━━━━━━━━━━━━━━━━━━━━━━━━━━━━━━━━━━━━━━━\u001b[0m \u001b[32m63.1/63.1 kB\u001b[0m \u001b[31m1.4 MB/s\u001b[0m eta \u001b[36m0:00:00\u001b[0m\n",
            "\u001b[?25hRequirement already satisfied: scikit-learn in /usr/local/lib/python3.11/dist-packages (1.6.1)\n",
            "Requirement already satisfied: matplotlib in /usr/local/lib/python3.11/dist-packages (3.10.0)\n",
            "Requirement already satisfied: seaborn in /usr/local/lib/python3.11/dist-packages (0.13.2)\n",
            "Requirement already satisfied: numpy in /usr/local/lib/python3.11/dist-packages (from rdkit) (2.0.2)\n",
            "Requirement already satisfied: Pillow in /usr/local/lib/python3.11/dist-packages (from rdkit) (11.1.0)\n",
            "Requirement already satisfied: filelock in /usr/local/lib/python3.11/dist-packages (from torch) (3.18.0)\n",
            "Requirement already satisfied: typing-extensions>=4.10.0 in /usr/local/lib/python3.11/dist-packages (from torch) (4.13.0)\n",
            "Requirement already satisfied: networkx in /usr/local/lib/python3.11/dist-packages (from torch) (3.4.2)\n",
            "Requirement already satisfied: jinja2 in /usr/local/lib/python3.11/dist-packages (from torch) (3.1.6)\n",
            "Requirement already satisfied: fsspec in /usr/local/lib/python3.11/dist-packages (from torch) (2025.3.2)\n",
            "Collecting nvidia-cuda-nvrtc-cu12==12.4.127 (from torch)\n",
            "  Downloading nvidia_cuda_nvrtc_cu12-12.4.127-py3-none-manylinux2014_x86_64.whl.metadata (1.5 kB)\n",
            "Collecting nvidia-cuda-runtime-cu12==12.4.127 (from torch)\n",
            "  Downloading nvidia_cuda_runtime_cu12-12.4.127-py3-none-manylinux2014_x86_64.whl.metadata (1.5 kB)\n",
            "Collecting nvidia-cuda-cupti-cu12==12.4.127 (from torch)\n",
            "  Downloading nvidia_cuda_cupti_cu12-12.4.127-py3-none-manylinux2014_x86_64.whl.metadata (1.6 kB)\n",
            "Collecting nvidia-cudnn-cu12==9.1.0.70 (from torch)\n",
            "  Downloading nvidia_cudnn_cu12-9.1.0.70-py3-none-manylinux2014_x86_64.whl.metadata (1.6 kB)\n",
            "Collecting nvidia-cublas-cu12==12.4.5.8 (from torch)\n",
            "  Downloading nvidia_cublas_cu12-12.4.5.8-py3-none-manylinux2014_x86_64.whl.metadata (1.5 kB)\n",
            "Collecting nvidia-cufft-cu12==11.2.1.3 (from torch)\n",
            "  Downloading nvidia_cufft_cu12-11.2.1.3-py3-none-manylinux2014_x86_64.whl.metadata (1.5 kB)\n",
            "Collecting nvidia-curand-cu12==10.3.5.147 (from torch)\n",
            "  Downloading nvidia_curand_cu12-10.3.5.147-py3-none-manylinux2014_x86_64.whl.metadata (1.5 kB)\n",
            "Collecting nvidia-cusolver-cu12==11.6.1.9 (from torch)\n",
            "  Downloading nvidia_cusolver_cu12-11.6.1.9-py3-none-manylinux2014_x86_64.whl.metadata (1.6 kB)\n",
            "Collecting nvidia-cusparse-cu12==12.3.1.170 (from torch)\n",
            "  Downloading nvidia_cusparse_cu12-12.3.1.170-py3-none-manylinux2014_x86_64.whl.metadata (1.6 kB)\n",
            "Requirement already satisfied: nvidia-cusparselt-cu12==0.6.2 in /usr/local/lib/python3.11/dist-packages (from torch) (0.6.2)\n",
            "Requirement already satisfied: nvidia-nccl-cu12==2.21.5 in /usr/local/lib/python3.11/dist-packages (from torch) (2.21.5)\n",
            "Requirement already satisfied: nvidia-nvtx-cu12==12.4.127 in /usr/local/lib/python3.11/dist-packages (from torch) (12.4.127)\n",
            "Collecting nvidia-nvjitlink-cu12==12.4.127 (from torch)\n",
            "  Downloading nvidia_nvjitlink_cu12-12.4.127-py3-none-manylinux2014_x86_64.whl.metadata (1.5 kB)\n",
            "Requirement already satisfied: triton==3.2.0 in /usr/local/lib/python3.11/dist-packages (from torch) (3.2.0)\n",
            "Requirement already satisfied: sympy==1.13.1 in /usr/local/lib/python3.11/dist-packages (from torch) (1.13.1)\n",
            "Requirement already satisfied: mpmath<1.4,>=1.1.0 in /usr/local/lib/python3.11/dist-packages (from sympy==1.13.1->torch) (1.3.0)\n",
            "Requirement already satisfied: aiohttp in /usr/local/lib/python3.11/dist-packages (from torch-geometric) (3.11.15)\n",
            "Requirement already satisfied: psutil>=5.8.0 in /usr/local/lib/python3.11/dist-packages (from torch-geometric) (5.9.5)\n",
            "Requirement already satisfied: pyparsing in /usr/local/lib/python3.11/dist-packages (from torch-geometric) (3.2.3)\n",
            "Requirement already satisfied: requests in /usr/local/lib/python3.11/dist-packages (from torch-geometric) (2.32.3)\n",
            "Requirement already satisfied: tqdm in /usr/local/lib/python3.11/dist-packages (from torch-geometric) (4.67.1)\n",
            "Requirement already satisfied: scipy>=1.6.0 in /usr/local/lib/python3.11/dist-packages (from scikit-learn) (1.14.1)\n",
            "Requirement already satisfied: joblib>=1.2.0 in /usr/local/lib/python3.11/dist-packages (from scikit-learn) (1.4.2)\n",
            "Requirement already satisfied: threadpoolctl>=3.1.0 in /usr/local/lib/python3.11/dist-packages (from scikit-learn) (3.6.0)\n",
            "Requirement already satisfied: contourpy>=1.0.1 in /usr/local/lib/python3.11/dist-packages (from matplotlib) (1.3.1)\n",
            "Requirement already satisfied: cycler>=0.10 in /usr/local/lib/python3.11/dist-packages (from matplotlib) (0.12.1)\n",
            "Requirement already satisfied: fonttools>=4.22.0 in /usr/local/lib/python3.11/dist-packages (from matplotlib) (4.56.0)\n",
            "Requirement already satisfied: kiwisolver>=1.3.1 in /usr/local/lib/python3.11/dist-packages (from matplotlib) (1.4.8)\n",
            "Requirement already satisfied: packaging>=20.0 in /usr/local/lib/python3.11/dist-packages (from matplotlib) (24.2)\n",
            "Requirement already satisfied: python-dateutil>=2.7 in /usr/local/lib/python3.11/dist-packages (from matplotlib) (2.8.2)\n",
            "Requirement already satisfied: pandas>=1.2 in /usr/local/lib/python3.11/dist-packages (from seaborn) (2.2.2)\n",
            "Requirement already satisfied: pytz>=2020.1 in /usr/local/lib/python3.11/dist-packages (from pandas>=1.2->seaborn) (2025.2)\n",
            "Requirement already satisfied: tzdata>=2022.7 in /usr/local/lib/python3.11/dist-packages (from pandas>=1.2->seaborn) (2025.2)\n",
            "Requirement already satisfied: six>=1.5 in /usr/local/lib/python3.11/dist-packages (from python-dateutil>=2.7->matplotlib) (1.17.0)\n",
            "Requirement already satisfied: aiohappyeyeballs>=2.3.0 in /usr/local/lib/python3.11/dist-packages (from aiohttp->torch-geometric) (2.6.1)\n",
            "Requirement already satisfied: aiosignal>=1.1.2 in /usr/local/lib/python3.11/dist-packages (from aiohttp->torch-geometric) (1.3.2)\n",
            "Requirement already satisfied: attrs>=17.3.0 in /usr/local/lib/python3.11/dist-packages (from aiohttp->torch-geometric) (25.3.0)\n",
            "Requirement already satisfied: frozenlist>=1.1.1 in /usr/local/lib/python3.11/dist-packages (from aiohttp->torch-geometric) (1.5.0)\n",
            "Requirement already satisfied: multidict<7.0,>=4.5 in /usr/local/lib/python3.11/dist-packages (from aiohttp->torch-geometric) (6.3.1)\n",
            "Requirement already satisfied: propcache>=0.2.0 in /usr/local/lib/python3.11/dist-packages (from aiohttp->torch-geometric) (0.3.1)\n",
            "Requirement already satisfied: yarl<2.0,>=1.17.0 in /usr/local/lib/python3.11/dist-packages (from aiohttp->torch-geometric) (1.18.3)\n",
            "Requirement already satisfied: MarkupSafe>=2.0 in /usr/local/lib/python3.11/dist-packages (from jinja2->torch) (3.0.2)\n",
            "Requirement already satisfied: charset-normalizer<4,>=2 in /usr/local/lib/python3.11/dist-packages (from requests->torch-geometric) (3.4.1)\n",
            "Requirement already satisfied: idna<4,>=2.5 in /usr/local/lib/python3.11/dist-packages (from requests->torch-geometric) (3.10)\n",
            "Requirement already satisfied: urllib3<3,>=1.21.1 in /usr/local/lib/python3.11/dist-packages (from requests->torch-geometric) (2.3.0)\n",
            "Requirement already satisfied: certifi>=2017.4.17 in /usr/local/lib/python3.11/dist-packages (from requests->torch-geometric) (2025.1.31)\n",
            "Downloading rdkit-2024.9.6-cp311-cp311-manylinux_2_28_x86_64.whl (34.3 MB)\n",
            "\u001b[2K   \u001b[90m━━━━━━━━━━━━━━━━━━━━━━━━━━━━━━━━━━━━━━━━\u001b[0m \u001b[32m34.3/34.3 MB\u001b[0m \u001b[31m14.6 MB/s\u001b[0m eta \u001b[36m0:00:00\u001b[0m\n",
            "\u001b[?25hDownloading nvidia_cublas_cu12-12.4.5.8-py3-none-manylinux2014_x86_64.whl (363.4 MB)\n",
            "\u001b[2K   \u001b[90m━━━━━━━━━━━━━━━━━━━━━━━━━━━━━━━━━━━━━━━━\u001b[0m \u001b[32m363.4/363.4 MB\u001b[0m \u001b[31m4.1 MB/s\u001b[0m eta \u001b[36m0:00:00\u001b[0m\n",
            "\u001b[?25hDownloading nvidia_cuda_cupti_cu12-12.4.127-py3-none-manylinux2014_x86_64.whl (13.8 MB)\n",
            "\u001b[2K   \u001b[90m━━━━━━━━━━━━━━━━━━━━━━━━━━━━━━━━━━━━━━━━\u001b[0m \u001b[32m13.8/13.8 MB\u001b[0m \u001b[31m41.2 MB/s\u001b[0m eta \u001b[36m0:00:00\u001b[0m\n",
            "\u001b[?25hDownloading nvidia_cuda_nvrtc_cu12-12.4.127-py3-none-manylinux2014_x86_64.whl (24.6 MB)\n",
            "\u001b[2K   \u001b[90m━━━━━━━━━━━━━━━━━━━━━━━━━━━━━━━━━━━━━━━━\u001b[0m \u001b[32m24.6/24.6 MB\u001b[0m \u001b[31m25.5 MB/s\u001b[0m eta \u001b[36m0:00:00\u001b[0m\n",
            "\u001b[?25hDownloading nvidia_cuda_runtime_cu12-12.4.127-py3-none-manylinux2014_x86_64.whl (883 kB)\n",
            "\u001b[2K   \u001b[90m━━━━━━━━━━━━━━━━━━━━━━━━━━━━━━━━━━━━━━━━\u001b[0m \u001b[32m883.7/883.7 kB\u001b[0m \u001b[31m20.1 MB/s\u001b[0m eta \u001b[36m0:00:00\u001b[0m\n",
            "\u001b[?25hDownloading nvidia_cudnn_cu12-9.1.0.70-py3-none-manylinux2014_x86_64.whl (664.8 MB)\n",
            "\u001b[2K   \u001b[90m━━━━━━━━━━━━━━━━━━━━━━━━━━━━━━━━━━━━━━━━\u001b[0m \u001b[32m664.8/664.8 MB\u001b[0m \u001b[31m2.6 MB/s\u001b[0m eta \u001b[36m0:00:00\u001b[0m\n",
            "\u001b[?25hDownloading nvidia_cufft_cu12-11.2.1.3-py3-none-manylinux2014_x86_64.whl (211.5 MB)\n",
            "\u001b[2K   \u001b[90m━━━━━━━━━━━━━━━━━━━━━━━━━━━━━━━━━━━━━━━━\u001b[0m \u001b[32m211.5/211.5 MB\u001b[0m \u001b[31m5.6 MB/s\u001b[0m eta \u001b[36m0:00:00\u001b[0m\n",
            "\u001b[?25hDownloading nvidia_curand_cu12-10.3.5.147-py3-none-manylinux2014_x86_64.whl (56.3 MB)\n",
            "\u001b[2K   \u001b[90m━━━━━━━━━━━━━━━━━━━━━━━━━━━━━━━━━━━━━━━━\u001b[0m \u001b[32m56.3/56.3 MB\u001b[0m \u001b[31m12.4 MB/s\u001b[0m eta \u001b[36m0:00:00\u001b[0m\n",
            "\u001b[?25hDownloading nvidia_cusolver_cu12-11.6.1.9-py3-none-manylinux2014_x86_64.whl (127.9 MB)\n",
            "\u001b[2K   \u001b[90m━━━━━━━━━━━━━━━━━━━━━━━━━━━━━━━━━━━━━━━━\u001b[0m \u001b[32m127.9/127.9 MB\u001b[0m \u001b[31m7.2 MB/s\u001b[0m eta \u001b[36m0:00:00\u001b[0m\n",
            "\u001b[?25hDownloading nvidia_cusparse_cu12-12.3.1.170-py3-none-manylinux2014_x86_64.whl (207.5 MB)\n",
            "\u001b[2K   \u001b[90m━━━━━━━━━━━━━━━━━━━━━━━━━━━━━━━━━━━━━━━━\u001b[0m \u001b[32m207.5/207.5 MB\u001b[0m \u001b[31m6.8 MB/s\u001b[0m eta \u001b[36m0:00:00\u001b[0m\n",
            "\u001b[?25hDownloading nvidia_nvjitlink_cu12-12.4.127-py3-none-manylinux2014_x86_64.whl (21.1 MB)\n",
            "\u001b[2K   \u001b[90m━━━━━━━━━━━━━━━━━━━━━━━━━━━━━━━━━━━━━━━━\u001b[0m \u001b[32m21.1/21.1 MB\u001b[0m \u001b[31m63.3 MB/s\u001b[0m eta \u001b[36m0:00:00\u001b[0m\n",
            "\u001b[?25hDownloading torch_geometric-2.6.1-py3-none-any.whl (1.1 MB)\n",
            "\u001b[2K   \u001b[90m━━━━━━━━━━━━━━━━━━━━━━━━━━━━━━━━━━━━━━━━\u001b[0m \u001b[32m1.1/1.1 MB\u001b[0m \u001b[31m47.0 MB/s\u001b[0m eta \u001b[36m0:00:00\u001b[0m\n",
            "\u001b[?25hInstalling collected packages: rdkit, nvidia-nvjitlink-cu12, nvidia-curand-cu12, nvidia-cufft-cu12, nvidia-cuda-runtime-cu12, nvidia-cuda-nvrtc-cu12, nvidia-cuda-cupti-cu12, nvidia-cublas-cu12, nvidia-cusparse-cu12, nvidia-cudnn-cu12, torch-geometric, nvidia-cusolver-cu12\n",
            "  Attempting uninstall: nvidia-nvjitlink-cu12\n",
            "    Found existing installation: nvidia-nvjitlink-cu12 12.5.82\n",
            "    Uninstalling nvidia-nvjitlink-cu12-12.5.82:\n",
            "      Successfully uninstalled nvidia-nvjitlink-cu12-12.5.82\n",
            "  Attempting uninstall: nvidia-curand-cu12\n",
            "    Found existing installation: nvidia-curand-cu12 10.3.6.82\n",
            "    Uninstalling nvidia-curand-cu12-10.3.6.82:\n",
            "      Successfully uninstalled nvidia-curand-cu12-10.3.6.82\n",
            "  Attempting uninstall: nvidia-cufft-cu12\n",
            "    Found existing installation: nvidia-cufft-cu12 11.2.3.61\n",
            "    Uninstalling nvidia-cufft-cu12-11.2.3.61:\n",
            "      Successfully uninstalled nvidia-cufft-cu12-11.2.3.61\n",
            "  Attempting uninstall: nvidia-cuda-runtime-cu12\n",
            "    Found existing installation: nvidia-cuda-runtime-cu12 12.5.82\n",
            "    Uninstalling nvidia-cuda-runtime-cu12-12.5.82:\n",
            "      Successfully uninstalled nvidia-cuda-runtime-cu12-12.5.82\n",
            "  Attempting uninstall: nvidia-cuda-nvrtc-cu12\n",
            "    Found existing installation: nvidia-cuda-nvrtc-cu12 12.5.82\n",
            "    Uninstalling nvidia-cuda-nvrtc-cu12-12.5.82:\n",
            "      Successfully uninstalled nvidia-cuda-nvrtc-cu12-12.5.82\n",
            "  Attempting uninstall: nvidia-cuda-cupti-cu12\n",
            "    Found existing installation: nvidia-cuda-cupti-cu12 12.5.82\n",
            "    Uninstalling nvidia-cuda-cupti-cu12-12.5.82:\n",
            "      Successfully uninstalled nvidia-cuda-cupti-cu12-12.5.82\n",
            "  Attempting uninstall: nvidia-cublas-cu12\n",
            "    Found existing installation: nvidia-cublas-cu12 12.5.3.2\n",
            "    Uninstalling nvidia-cublas-cu12-12.5.3.2:\n",
            "      Successfully uninstalled nvidia-cublas-cu12-12.5.3.2\n",
            "  Attempting uninstall: nvidia-cusparse-cu12\n",
            "    Found existing installation: nvidia-cusparse-cu12 12.5.1.3\n",
            "    Uninstalling nvidia-cusparse-cu12-12.5.1.3:\n",
            "      Successfully uninstalled nvidia-cusparse-cu12-12.5.1.3\n",
            "  Attempting uninstall: nvidia-cudnn-cu12\n",
            "    Found existing installation: nvidia-cudnn-cu12 9.3.0.75\n",
            "    Uninstalling nvidia-cudnn-cu12-9.3.0.75:\n",
            "      Successfully uninstalled nvidia-cudnn-cu12-9.3.0.75\n",
            "  Attempting uninstall: nvidia-cusolver-cu12\n",
            "    Found existing installation: nvidia-cusolver-cu12 11.6.3.83\n",
            "    Uninstalling nvidia-cusolver-cu12-11.6.3.83:\n",
            "      Successfully uninstalled nvidia-cusolver-cu12-11.6.3.83\n",
            "Successfully installed nvidia-cublas-cu12-12.4.5.8 nvidia-cuda-cupti-cu12-12.4.127 nvidia-cuda-nvrtc-cu12-12.4.127 nvidia-cuda-runtime-cu12-12.4.127 nvidia-cudnn-cu12-9.1.0.70 nvidia-cufft-cu12-11.2.1.3 nvidia-curand-cu12-10.3.5.147 nvidia-cusolver-cu12-11.6.1.9 nvidia-cusparse-cu12-12.3.1.170 nvidia-nvjitlink-cu12-12.4.127 rdkit-2024.9.6 torch-geometric-2.6.1\n",
            "2.6.0+cu124\n",
            "12.4\n",
            "Python 3.11.11\n",
            "Sun Apr  6 13:33:29 2025       \n",
            "+-----------------------------------------------------------------------------------------+\n",
            "| NVIDIA-SMI 550.54.15              Driver Version: 550.54.15      CUDA Version: 12.4     |\n",
            "|-----------------------------------------+------------------------+----------------------+\n",
            "| GPU  Name                 Persistence-M | Bus-Id          Disp.A | Volatile Uncorr. ECC |\n",
            "| Fan  Temp   Perf          Pwr:Usage/Cap |           Memory-Usage | GPU-Util  Compute M. |\n",
            "|                                         |                        |               MIG M. |\n",
            "|=========================================+========================+======================|\n",
            "|   0  Tesla T4                       Off |   00000000:00:04.0 Off |                    0 |\n",
            "| N/A   31C    P8              9W /   70W |       0MiB /  15360MiB |      0%      Default |\n",
            "|                                         |                        |                  N/A |\n",
            "+-----------------------------------------+------------------------+----------------------+\n",
            "                                                                                         \n",
            "+-----------------------------------------------------------------------------------------+\n",
            "| Processes:                                                                              |\n",
            "|  GPU   GI   CI        PID   Type   Process name                              GPU Memory |\n",
            "|        ID   ID                                                               Usage      |\n",
            "|=========================================================================================|\n",
            "|  No running processes found                                                             |\n",
            "+-----------------------------------------------------------------------------------------+\n"
          ]
        }
      ],
      "source": [
        "# Install packages\n",
        "!pip install rdkit torch torch-geometric scikit-learn matplotlib seaborn\n",
        "\n",
        "# Check pytorch version and make sure you use a GPU Kernel\n",
        "!python3 -c \"import torch; print(torch.__version__)\"\n",
        "!python3 -c \"import torch; print(torch.version.cuda)\"\n",
        "!python3 --version\n",
        "!nvidia-smi"
      ]
    },
    {
      "cell_type": "markdown",
      "metadata": {
        "id": "cSTDAc0jZTON",
        "jp-MarkdownHeadingCollapsed": true
      },
      "source": [
        "## Background info on the Dataset"
      ]
    },
    {
      "cell_type": "markdown",
      "metadata": {
        "id": "14WFDVy3Zd21"
      },
      "source": [
        "In the following we will use a dataset provided in the dataset collection of PyTorch Geometric ([Here you find all datasets](https://pytorch-geometric.readthedocs.io/en/latest/modules/datasets.html)). The Dataset comes from the MoleculeNet collection, which can be found [here](http://moleculenet.ai/datasets-1).\n",
        "\n",
        "\n",
        ">\"ESOL is a small dataset consisting of water solubility data for 1128 compounds. The dataset\n",
        "has been used to train models that estimate solubility directly from chemical structures (as\n",
        "encoded in SMILES strings). Note that these structures don’t include 3D coordinates, since\n",
        "solubility is a property of a molecule and not of its particular conformers.\"\n",
        "\n",
        "**>>> Machine Learning task: How are different molecules dissolving in water?**\n",
        "\n",
        "\n",
        "![image.png](data:image/png;base64,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)\n",
        "\n",
        "Source: https://www.differencebetween.com/difference-between-solubility-and-solubility-product/"
      ]
    },
    {
      "cell_type": "markdown",
      "metadata": {
        "id": "Q7xQrRYlbL_x"
      },
      "source": [
        "### SMILES representation and important sidenodes\n",
        "\n",
        "![image.png](data:image/png;base64,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)\n",
        "\n",
        " Source: https://medium.com/@sunitachoudhary103/generating-molecules-using-a-char-rnn-in-pytorch-16885fd9394b"
      ]
    },
    {
      "cell_type": "markdown",
      "metadata": {
        "id": "tL-YRWW0nGPu"
      },
      "source": [
        "- Using the plain SMILES string as input is not suitable\n",
        "- This will not consider the molecule structure but rather the grammar of the SMILES string\n",
        "- The SMILES string can be different for a molecule, depending on the notation ( a unique molecule can have multiple SMILES strings )\n",
        "- Chemical graphs however, are invariant to permutations --> Graph Neural Networks"
      ]
    },
    {
      "cell_type": "markdown",
      "metadata": {
        "id": "GMDvh1OKeuYP",
        "jp-MarkdownHeadingCollapsed": true
      },
      "source": [
        "\n",
        "## Looking into the Dataset"
      ]
    },
    {
      "cell_type": "code",
      "execution_count": 3,
      "metadata": {
        "colab": {
          "base_uri": "https://localhost:8080/"
        },
        "id": "kL8_Pkmt07WM",
        "outputId": "30ca92e4-bf80-40f4-bd9e-9ae96de0120f"
      },
      "outputs": [
        {
          "output_type": "stream",
          "name": "stderr",
          "text": [
            "Downloading https://deepchemdata.s3-us-west-1.amazonaws.com/datasets/delaney-processed.csv\n",
            "Processing...\n",
            "Done!\n"
          ]
        },
        {
          "output_type": "execute_result",
          "data": {
            "text/plain": [
              "ESOL(1128)"
            ]
          },
          "metadata": {},
          "execution_count": 3
        }
      ],
      "source": [
        "import rdkit\n",
        "from torch_geometric.datasets import MoleculeNet\n",
        "\n",
        "# Load the ESOL dataset\n",
        "data = MoleculeNet(root=\".\", name=\"ESOL\")\n",
        "data"
      ]
    },
    {
      "cell_type": "code",
      "execution_count": 4,
      "metadata": {
        "colab": {
          "base_uri": "https://localhost:8080/"
        },
        "id": "-bGynPDD2pOp",
        "outputId": "5b2577dd-998f-4463-cfa8-b6f81e5027d2"
      },
      "outputs": [
        {
          "output_type": "stream",
          "name": "stdout",
          "text": [
            "Dataset type:  <class 'torch_geometric.datasets.molecule_net.MoleculeNet'>\n",
            "Dataset features:  9\n",
            "Dataset target:  734\n",
            "Dataset length:  <bound method InMemoryDataset.len of ESOL(1128)>\n",
            "Dataset sample:  Data(x=[32, 9], edge_index=[2, 68], edge_attr=[68, 3], smiles='OCC3OC(OCC2OC(OC(C#N)c1ccccc1)C(O)C(O)C2O)C(O)C(O)C3O ', y=[1, 1])\n",
            "Sample  nodes:  32\n",
            "Sample  edges:  68\n"
          ]
        },
        {
          "output_type": "stream",
          "name": "stderr",
          "text": [
            "/usr/local/lib/python3.11/dist-packages/torch_geometric/data/dataset.py:169: UserWarning: Found floating-point labels while calling `dataset.num_classes`. Returning the number of unique elements. Please make sure that this is expected before proceeding.\n",
            "  warnings.warn(\"Found floating-point labels while calling \"\n"
          ]
        }
      ],
      "source": [
        "# Investigating the dataset\n",
        "print(\"Dataset type: \", type(data))\n",
        "print(\"Dataset features: \", data.num_features)\n",
        "print(\"Dataset target: \", data.num_classes)\n",
        "print(\"Dataset length: \", data.len)\n",
        "print(\"Dataset sample: \", data[0])\n",
        "print(\"Sample  nodes: \", data[0].num_nodes)\n",
        "print(\"Sample  edges: \", data[0].num_edges)\n",
        "\n",
        "# edge_index = graph connections\n",
        "# smiles = molecule with its atoms\n",
        "# x = node features (32 nodes have each 9 features)\n",
        "# y = labels (dimension)"
      ]
    },
    {
      "cell_type": "code",
      "execution_count": 5,
      "metadata": {
        "colab": {
          "base_uri": "https://localhost:8080/"
        },
        "id": "mvOSFVE8tyyd",
        "outputId": "8fb2d5b5-1b4a-478a-ae5c-a54c7a1ccdd8"
      },
      "outputs": [
        {
          "output_type": "execute_result",
          "data": {
            "text/plain": [
              "tensor([[8, 0, 2, 5, 1, 0, 4, 0, 0],\n",
              "        [6, 0, 4, 5, 2, 0, 4, 0, 0],\n",
              "        [6, 0, 4, 5, 1, 0, 4, 0, 1],\n",
              "        [8, 0, 2, 5, 0, 0, 4, 0, 1],\n",
              "        [6, 0, 4, 5, 1, 0, 4, 0, 1],\n",
              "        [8, 0, 2, 5, 0, 0, 4, 0, 0],\n",
              "        [6, 0, 4, 5, 2, 0, 4, 0, 0],\n",
              "        [6, 0, 4, 5, 1, 0, 4, 0, 1],\n",
              "        [8, 0, 2, 5, 0, 0, 4, 0, 1],\n",
              "        [6, 0, 4, 5, 1, 0, 4, 0, 1],\n",
              "        [8, 0, 2, 5, 0, 0, 4, 0, 0],\n",
              "        [6, 0, 4, 5, 1, 0, 4, 0, 0],\n",
              "        [6, 0, 2, 5, 0, 0, 2, 0, 0],\n",
              "        [7, 0, 1, 5, 0, 0, 2, 0, 0],\n",
              "        [6, 0, 3, 5, 0, 0, 3, 1, 1],\n",
              "        [6, 0, 3, 5, 1, 0, 3, 1, 1],\n",
              "        [6, 0, 3, 5, 1, 0, 3, 1, 1],\n",
              "        [6, 0, 3, 5, 1, 0, 3, 1, 1],\n",
              "        [6, 0, 3, 5, 1, 0, 3, 1, 1],\n",
              "        [6, 0, 3, 5, 1, 0, 3, 1, 1],\n",
              "        [6, 0, 4, 5, 1, 0, 4, 0, 1],\n",
              "        [8, 0, 2, 5, 1, 0, 4, 0, 0],\n",
              "        [6, 0, 4, 5, 1, 0, 4, 0, 1],\n",
              "        [8, 0, 2, 5, 1, 0, 4, 0, 0],\n",
              "        [6, 0, 4, 5, 1, 0, 4, 0, 1],\n",
              "        [8, 0, 2, 5, 1, 0, 4, 0, 0],\n",
              "        [6, 0, 4, 5, 1, 0, 4, 0, 1],\n",
              "        [8, 0, 2, 5, 1, 0, 4, 0, 0],\n",
              "        [6, 0, 4, 5, 1, 0, 4, 0, 1],\n",
              "        [8, 0, 2, 5, 1, 0, 4, 0, 0],\n",
              "        [6, 0, 4, 5, 1, 0, 4, 0, 1],\n",
              "        [8, 0, 2, 5, 1, 0, 4, 0, 0]])"
            ]
          },
          "metadata": {},
          "execution_count": 5
        }
      ],
      "source": [
        "# Investigating the features\n",
        "# Shape: [num_nodes, num_node_features]\n",
        "data[0].x"
      ]
    },
    {
      "cell_type": "code",
      "execution_count": 6,
      "metadata": {
        "colab": {
          "base_uri": "https://localhost:8080/"
        },
        "id": "eJgV2WdKuqky",
        "outputId": "df6fdbf4-4ae2-4922-a82e-9088ec226107"
      },
      "outputs": [
        {
          "output_type": "execute_result",
          "data": {
            "text/plain": [
              "tensor([[ 0,  1],\n",
              "        [ 1,  0],\n",
              "        [ 1,  2],\n",
              "        [ 2,  1],\n",
              "        [ 2,  3],\n",
              "        [ 2, 30],\n",
              "        [ 3,  2],\n",
              "        [ 3,  4],\n",
              "        [ 4,  3],\n",
              "        [ 4,  5],\n",
              "        [ 4, 26],\n",
              "        [ 5,  4],\n",
              "        [ 5,  6],\n",
              "        [ 6,  5],\n",
              "        [ 6,  7],\n",
              "        [ 7,  6],\n",
              "        [ 7,  8],\n",
              "        [ 7, 24],\n",
              "        [ 8,  7],\n",
              "        [ 8,  9],\n",
              "        [ 9,  8],\n",
              "        [ 9, 10],\n",
              "        [ 9, 20],\n",
              "        [10,  9],\n",
              "        [10, 11],\n",
              "        [11, 10],\n",
              "        [11, 12],\n",
              "        [11, 14],\n",
              "        [12, 11],\n",
              "        [12, 13],\n",
              "        [13, 12],\n",
              "        [14, 11],\n",
              "        [14, 15],\n",
              "        [14, 19],\n",
              "        [15, 14],\n",
              "        [15, 16],\n",
              "        [16, 15],\n",
              "        [16, 17],\n",
              "        [17, 16],\n",
              "        [17, 18],\n",
              "        [18, 17],\n",
              "        [18, 19],\n",
              "        [19, 14],\n",
              "        [19, 18],\n",
              "        [20,  9],\n",
              "        [20, 21],\n",
              "        [20, 22],\n",
              "        [21, 20],\n",
              "        [22, 20],\n",
              "        [22, 23],\n",
              "        [22, 24],\n",
              "        [23, 22],\n",
              "        [24,  7],\n",
              "        [24, 22],\n",
              "        [24, 25],\n",
              "        [25, 24],\n",
              "        [26,  4],\n",
              "        [26, 27],\n",
              "        [26, 28],\n",
              "        [27, 26],\n",
              "        [28, 26],\n",
              "        [28, 29],\n",
              "        [28, 30],\n",
              "        [29, 28],\n",
              "        [30,  2],\n",
              "        [30, 28],\n",
              "        [30, 31],\n",
              "        [31, 30]])"
            ]
          },
          "metadata": {},
          "execution_count": 6
        }
      ],
      "source": [
        "# Investigating the edges in sparse COO format\n",
        "# Shape [2, num_edges]\n",
        "data[0].edge_index.t()"
      ]
    },
    {
      "cell_type": "code",
      "execution_count": 7,
      "metadata": {
        "colab": {
          "base_uri": "https://localhost:8080/"
        },
        "id": "JLLbZhpBvAnG",
        "outputId": "4c540cf3-254b-4fac-a380-59084ae92f46"
      },
      "outputs": [
        {
          "output_type": "execute_result",
          "data": {
            "text/plain": [
              "tensor([[-0.7700]])"
            ]
          },
          "metadata": {},
          "execution_count": 7
        }
      ],
      "source": [
        "data[0].y"
      ]
    },
    {
      "cell_type": "markdown",
      "metadata": {
        "id": "t2aqwJJ_bUC_"
      },
      "source": [
        "In the following we will perform predictions based on the graph level. This means we have one y-label for the whole graph."
      ]
    },
    {
      "cell_type": "markdown",
      "metadata": {
        "id": "HBodIcNlfqOF",
        "jp-MarkdownHeadingCollapsed": true
      },
      "source": [
        "## Converting SMILES to RDKit molecules - Visualizing molecules"
      ]
    },
    {
      "cell_type": "markdown",
      "metadata": {
        "id": "ZJtIR3mmsBHq"
      },
      "source": [
        "Next we want to have our SMILES molecules as graphs..."
      ]
    },
    {
      "cell_type": "code",
      "execution_count": 8,
      "metadata": {
        "colab": {
          "base_uri": "https://localhost:8080/",
          "height": 36
        },
        "id": "Qvn0uNqksE5q",
        "outputId": "29d1beb4-1ae0-4f37-8176-82bf3d308fdd"
      },
      "outputs": [
        {
          "output_type": "execute_result",
          "data": {
            "text/plain": [
              "'OCC3OC(OCC2OC(OC(C#N)c1ccccc1)C(O)C(O)C2O)C(O)C(O)C3O '"
            ],
            "application/vnd.google.colaboratory.intrinsic+json": {
              "type": "string"
            }
          },
          "metadata": {},
          "execution_count": 8
        }
      ],
      "source": [
        "data[0][\"smiles\"]"
      ]
    },
    {
      "cell_type": "code",
      "execution_count": 9,
      "metadata": {
        "colab": {
          "base_uri": "https://localhost:8080/",
          "height": 167
        },
        "id": "df-9E4kbgOuU",
        "outputId": "ca3a28b0-eb0c-440a-8022-51f15b28301c"
      },
      "outputs": [
        {
          "output_type": "execute_result",
          "data": {
            "text/plain": [
              "<rdkit.Chem.rdchem.Mol at 0x7cd2c1241fc0>"
            ],
            "image/png": "[encoded data removed]"
          },
          "metadata": {},
          "execution_count": 9
        }
      ],
      "source": [
        "from rdkit import Chem\n",
        "from rdkit.Chem.Draw import IPythonConsole\n",
        "molecule = Chem.MolFromSmiles(data[0][\"smiles\"])\n",
        "molecule"
      ]
    },
    {
      "cell_type": "code",
      "execution_count": 10,
      "metadata": {
        "colab": {
          "base_uri": "https://localhost:8080/"
        },
        "id": "KwoLnhIBsN_t",
        "outputId": "4c65dccb-e8ad-41bd-98d7-fdad4e39ddcc"
      },
      "outputs": [
        {
          "output_type": "execute_result",
          "data": {
            "text/plain": [
              "rdkit.Chem.rdchem.Mol"
            ]
          },
          "metadata": {},
          "execution_count": 10
        }
      ],
      "source": [
        "type(molecule)"
      ]
    },
    {
      "cell_type": "markdown",
      "metadata": {
        "id": "dlvYBt9Szd8o"
      },
      "source": [
        "- We can also obtain the features from this RDKit representation\n",
        "- It tells us everything we need to know e.g. atom features (type, ...), edges, ...\n",
        "- **In our case however, It's even easier as we have the information explicitly given already in the dataset**\n",
        "- Otherwise we would calculate the node features from those atom properties\n",
        "\n",
        "-> For datasets containing SMILES representations this would be the way to go"
      ]
    },
    {
      "cell_type": "markdown",
      "metadata": {
        "id": "lhJYtenTje8-"
      },
      "source": [
        "## Implementing the Graph Neural Network"
      ]
    },
    {
      "cell_type": "markdown",
      "metadata": {
        "id": "EoqT0XdzU9K1"
      },
      "source": [
        "Building a Graph Neural Network works the same way as building a Convolutional Neural Network, we simple add some layers.\n",
        "\n",
        "The GCN simply extends torch.nn.Module.\n",
        "GCNConv expects:\n",
        "- in_channels = Size of each input sample.\n",
        "- out_channels = Size of each output sample.\n",
        "\n",
        "We apply three convolutional layers, which means we learn the information about 3 neighbor hops. After that we apply a pooling layer to combine the information of the individual nodes, as we want to perform graph-level prediction.\n",
        "\n",
        "Always keep in mind that different learning problems (node, edge or graph prediction) require different GNN architectures.\n",
        "\n",
        "For example for node-level prediction you will often encounter masks. For graph-level predictions on the other hand you need to combine the node embeddings."
      ]
    },
    {
      "cell_type": "markdown",
      "metadata": {
        "id": "IL4-fmHNcLl4"
      },
      "source": [
        "First set seed for reproducibility"
      ]
    },
    {
      "cell_type": "code",
      "execution_count": 13,
      "metadata": {
        "colab": {
          "base_uri": "https://localhost:8080/"
        },
        "id": "oQKA7RDQcLl6",
        "outputId": "c80168e2-c65c-4de9-a4e0-7ba9d218651b"
      },
      "outputs": [
        {
          "output_type": "execute_result",
          "data": {
            "text/plain": [
              "<torch._C.Generator at 0x7cd2c159ecd0>"
            ]
          },
          "metadata": {},
          "execution_count": 13
        }
      ],
      "source": [
        "import random\n",
        "import numpy as np\n",
        "import torch\n",
        "\n",
        "def set_seed(seed=42):\n",
        "    random.seed(seed)\n",
        "    np.random.seed(seed)\n",
        "    torch.manual_seed(seed)\n",
        "    torch.cuda.manual_seed(seed)\n",
        "    torch.cuda.manual_seed_all(seed)\n",
        "\n",
        "    os.environ['PYTHONHASHSEED'] = str(seed)\n",
        "\n",
        "    torch.backends.cudnn.deterministic = True\n",
        "    torch.backends.cudnn.benchmark = False\n",
        "\n",
        "# Set the seed once at the beginning\n",
        "set_seed(42)\n",
        "\n",
        "# For reproducible DataLoader shuffle\n",
        "g = torch.Generator()\n",
        "g.manual_seed(42)"
      ]
    },
    {
      "cell_type": "code",
      "execution_count": 14,
      "metadata": {
        "colab": {
          "base_uri": "https://localhost:8080/"
        },
        "id": "45raJzPsjhU7",
        "outputId": "d0449971-fc9e-40cc-ed97-c6d7c24fa197"
      },
      "outputs": [
        {
          "output_type": "stream",
          "name": "stdout",
          "text": [
            "GCN(\n",
            "  (initial_conv): GCNConv(9, 64)\n",
            "  (conv1): GCNConv(64, 64)\n",
            "  (conv2): GCNConv(64, 64)\n",
            "  (conv3): GCNConv(64, 64)\n",
            "  (out): Linear(in_features=128, out_features=1, bias=True)\n",
            ")\n",
            "Number of parameters:  13249\n"
          ]
        }
      ],
      "source": [
        "from torch.nn import Linear\n",
        "import torch.nn.functional as F\n",
        "from torch_geometric.nn import GCNConv, TopKPooling, global_mean_pool\n",
        "from torch_geometric.nn import global_mean_pool as gap, global_max_pool as gmp\n",
        "embedding_size = 64\n",
        "\n",
        "class GCN(torch.nn.Module):\n",
        "    def __init__(self):\n",
        "        # Init parent\n",
        "        super(GCN, self).__init__()\n",
        "\n",
        "        # GCN layers\n",
        "        self.initial_conv = GCNConv(data.num_features, embedding_size)\n",
        "        self.conv1 = GCNConv(embedding_size, embedding_size)\n",
        "        self.conv2 = GCNConv(embedding_size, embedding_size)\n",
        "        self.conv3 = GCNConv(embedding_size, embedding_size)\n",
        "\n",
        "        # Output layer\n",
        "        self.out = Linear(embedding_size*2, 1)\n",
        "\n",
        "    def forward(self, x, edge_index, batch_index):\n",
        "        # First Conv layer\n",
        "        hidden = self.initial_conv(x, edge_index)\n",
        "        hidden = F.tanh(hidden)\n",
        "\n",
        "        # Other Conv layers\n",
        "        hidden = self.conv1(hidden, edge_index)\n",
        "        hidden = F.tanh(hidden)\n",
        "        hidden = self.conv2(hidden, edge_index)\n",
        "        hidden = F.tanh(hidden)\n",
        "        hidden = self.conv3(hidden, edge_index)\n",
        "        hidden = F.tanh(hidden)\n",
        "\n",
        "        # Global Pooling (stack different aggregations)\n",
        "        hidden = torch.cat([gmp(hidden, batch_index),\n",
        "                            gap(hidden, batch_index)], dim=1)\n",
        "\n",
        "        # Apply a final (linear) classifier.\n",
        "        out = self.out(hidden)\n",
        "\n",
        "        return out, hidden\n",
        "\n",
        "model = GCN()\n",
        "print(model)\n",
        "print(\"Number of parameters: \", sum(p.numel() for p in model.parameters()))"
      ]
    },
    {
      "cell_type": "markdown",
      "metadata": {
        "id": "aWatgsREliPY"
      },
      "source": [
        "- We could also reduce the embeddings, but as we have large molecules we use 64\n",
        "- The more layers we add, the more information we get about the graph\n",
        "- For the regression problem we use a Linear layer as final output layer\n",
        "- We try to use not too many parameters, as we only have ~1k samples"
      ]
    },
    {
      "cell_type": "markdown",
      "metadata": {
        "id": "vf_KuYZmnRgn"
      },
      "source": [
        "## Training the GNN"
      ]
    },
    {
      "cell_type": "markdown",
      "metadata": {
        "id": "i29UV6j7La3Q"
      },
      "source": [
        "Divide dataset in training validation and test sets. We will use validation to perform early-stopping"
      ]
    },
    {
      "cell_type": "code",
      "execution_count": 15,
      "metadata": {
        "id": "kimdckCaLYrc"
      },
      "outputs": [],
      "source": [
        "from torch_geometric.data import DataLoader\n",
        "import torch\n",
        "import warnings\n",
        "\n",
        "warnings.filterwarnings(\"ignore\")\n",
        "\n",
        "# Define loss function: Mean Squared Error\n",
        "loss_fn = torch.nn.MSELoss()\n",
        "\n",
        "# Use GPU if available\n",
        "device = torch.device(\"cuda:0\" if torch.cuda.is_available() else \"cpu\")\n",
        "model = model.to(device)\n",
        "\n",
        "# Define optimizer\n",
        "optimizer = torch.optim.Adam(model.parameters(), lr=1e-3)\n",
        "\n",
        "# Define number of graphs per batch\n",
        "NUM_GRAPHS_PER_BATCH = 64\n",
        "\n",
        "# Split dataset: 70% train, 10% validation, 20% test\n",
        "data_size = len(data)\n",
        "train_data = data[:int(data_size * 0.7)]\n",
        "val_data = data[int(data_size * 0.7):int(data_size * 0.8)]\n",
        "test_data = data[int(data_size * 0.8):]\n",
        "\n",
        "# Create DataLoaders\n",
        "train_loader = DataLoader(train_data, batch_size=NUM_GRAPHS_PER_BATCH, shuffle=True, generator=g)\n",
        "val_loader = DataLoader(val_data, batch_size=NUM_GRAPHS_PER_BATCH, shuffle=False)\n",
        "test_loader = DataLoader(test_data, batch_size=NUM_GRAPHS_PER_BATCH, shuffle=False)"
      ]
    },
    {
      "cell_type": "code",
      "execution_count": 16,
      "metadata": {
        "id": "p4VWl_LJXBm0"
      },
      "outputs": [],
      "source": [
        "# Training function\n",
        "def train(loader):\n",
        "    model.train()  # Set the model to training mode (enables layers like dropout)\n",
        "    total_loss = 0  # Accumulator for the total loss\n",
        "\n",
        "    for batch in loader:  # Iterate through each batch of data\n",
        "        batch = batch.to(device)  # Move the batch to GPU (or CPU)\n",
        "\n",
        "        optimizer.zero_grad()  # Clear previously accumulated gradients\n",
        "\n",
        "        # Forward pass: predict outputs and extract embeddings\n",
        "        pred, embedding = model(batch.x.float(), batch.edge_index, batch.batch)\n",
        "\n",
        "        # Compute the loss between predictions and true labels\n",
        "        loss = loss_fn(pred, batch.y)\n",
        "\n",
        "        total_loss += loss.item()  # Add current loss to total (as float)\n",
        "\n",
        "        loss.backward()  # Compute gradients via backpropagation\n",
        "        optimizer.step()  # Update model parameters based on gradients\n",
        "\n",
        "    # Return the average loss over all batches and the final batch's embedding\n",
        "    return total_loss / len(loader), embedding\n",
        "\n",
        "\n",
        "# Validation/Test function\n",
        "def evaluate(loader):\n",
        "    model.eval()  # Set the model to evaluation mode (disables dropout, etc.)\n",
        "    total_loss = 0  # Accumulator for validation loss\n",
        "\n",
        "    with torch.no_grad():  # Disable gradient computation for faster evaluation\n",
        "        for batch in loader:\n",
        "            batch = batch.to(device)\n",
        "\n",
        "            # Forward pass to get predictions; embeddings are ignored here\n",
        "            pred, _ = model(batch.x.float(), batch.edge_index, batch.batch)\n",
        "\n",
        "            # Compute loss on validation/test data\n",
        "            loss = loss_fn(pred, batch.y)\n",
        "\n",
        "            total_loss += loss.item()  # Accumulate loss as float\n",
        "\n",
        "    # Return average loss over all validation/test batches\n",
        "    return total_loss / len(loader)\n"
      ]
    },
    {
      "cell_type": "code",
      "execution_count": 17,
      "metadata": {
        "colab": {
          "base_uri": "https://localhost:8080/"
        },
        "id": "xDra7-J-k0EB",
        "outputId": "3c494328-4b1d-4d71-addd-9cb659898bf7"
      },
      "outputs": [
        {
          "output_type": "stream",
          "name": "stdout",
          "text": [
            "Starting training...\n",
            "Epoch 0 | Train Loss: 8.4007 | Val Loss: 5.7285\n",
            "Epoch 100 | Train Loss: 1.0665 | Val Loss: 1.3949\n",
            "Epoch 200 | Train Loss: 0.6914 | Val Loss: 0.8210\n",
            "Epoch 300 | Train Loss: 0.4757 | Val Loss: 0.6920\n",
            "Epoch 400 | Train Loss: 0.3218 | Val Loss: 0.6901\n",
            "Epoch 500 | Train Loss: 0.2642 | Val Loss: 0.6493\n",
            "Epoch 600 | Train Loss: 0.2096 | Val Loss: 0.6542\n",
            "Epoch 700 | Train Loss: 0.1930 | Val Loss: 0.7609\n",
            "Epoch 800 | Train Loss: 0.1484 | Val Loss: 0.6822\n",
            "Epoch 900 | Train Loss: 0.1212 | Val Loss: 0.6930\n",
            "Epoch 1000 | Train Loss: 0.1013 | Val Loss: 0.7918\n",
            "Early stopping triggered at epoch 1021.\n",
            "\n",
            "Training completed.\n"
          ]
        }
      ],
      "source": [
        "# Paths for saving models\n",
        "best_val_model_path = os.path.join(GNN_PATH, 'best_val_model.pt')\n",
        "final_model_path = os.path.join(GNN_PATH, 'final_model.pt')\n",
        "\n",
        "# Early stopping parameters\n",
        "best_val_loss = float('inf')\n",
        "patience = 500\n",
        "patience_counter = 0\n",
        "epoch_number = 2000\n",
        "best_epoch = -1  # To track when best model was found\n",
        "\n",
        "train_losses = []\n",
        "val_losses = []\n",
        "\n",
        "print(\"Starting training...\")\n",
        "\n",
        "for epoch in range(epoch_number):\n",
        "    # Train for one epoch\n",
        "    train_loss, _ = train(train_loader)\n",
        "    # Evaluate on validation set\n",
        "    val_loss = evaluate(val_loader)\n",
        "    # Accumulate Losses\n",
        "    train_losses.append(train_loss)\n",
        "    val_losses.append(val_loss)\n",
        "\n",
        "    # Check if validation improved\n",
        "    if val_loss < best_val_loss:\n",
        "        best_val_loss = val_loss\n",
        "        patience_counter = 0\n",
        "        best_epoch = epoch\n",
        "        # Save the best model seen so far\n",
        "        torch.save(model.state_dict(), best_val_model_path)\n",
        "    else:\n",
        "        patience_counter += 1\n",
        "\n",
        "    # Print progress every 100 epochs\n",
        "    if epoch % 100 == 0 or epoch == epoch_number - 1:\n",
        "        print(f\"Epoch {epoch} | Train Loss: {train_loss:.4f} | Val Loss: {val_loss:.4f}\")\n",
        "\n",
        "    # Early stopping check\n",
        "    if patience_counter >= patience:\n",
        "        print(f\"Early stopping triggered at epoch {epoch}.\")\n",
        "        break\n",
        "\n",
        "# Save the final model\n",
        "torch.save(model.state_dict(), final_model_path)\n",
        "print(\"\\nTraining completed.\")"
      ]
    },
    {
      "cell_type": "markdown",
      "metadata": {
        "id": "Axl1fpt1N_dv"
      },
      "source": [
        "### Visualizing the Training loss"
      ]
    },
    {
      "cell_type": "code",
      "execution_count": 18,
      "metadata": {
        "id": "WcXAGUFx1h0O"
      },
      "outputs": [],
      "source": [
        "# Function for visualize the embedding\n",
        "from sklearn.manifold import TSNE\n",
        "import matplotlib.pyplot as plt\n",
        "\n",
        "def plot_embeddings(embeddings, targets, epoch):\n",
        "    # Convert to numpy\n",
        "    emb = embeddings.cpu().detach().numpy()\n",
        "    y = targets.cpu().detach().numpy()\n",
        "\n",
        "    # Reduce to 2D\n",
        "    tsne = TSNE(n_components=2, random_state=42)\n",
        "    emb_2d = tsne.fit_transform(emb)\n",
        "\n",
        "    # Plot\n",
        "    plt.figure(figsize=(6, 6))\n",
        "    sc = plt.scatter(emb_2d[:, 0], emb_2d[:, 1], c=y, cmap='viridis', alpha=0.8)\n",
        "    plt.colorbar(sc, label='Target Value')\n",
        "    plt.title(f\"t-SNE of Embeddings at Epoch {epoch}\")\n",
        "    plt.tight_layout()\n",
        "    plt.show()"
      ]
    },
    {
      "cell_type": "code",
      "execution_count": 19,
      "metadata": {
        "colab": {
          "base_uri": "https://localhost:8080/",
          "height": 1000
        },
        "id": "k0h88ojBjrKx",
        "outputId": "6a5999f3-4c3a-490d-97b2-4bbde4eeb82d"
      },
      "outputs": [
        {
          "output_type": "stream",
          "name": "stdout",
          "text": [
            "Final Model Evaluation:\n",
            "Train Loss: 0.1603\n",
            "Val Loss:   0.6997\n"
          ]
        },
        {
          "output_type": "display_data",
          "data": {
            "text/plain": [
              "<Figure size 600x600 with 2 Axes>"
            ],
            "image/png": "[encoded data removed]"
          },
          "metadata": {}
        },
        {
          "output_type": "stream",
          "name": "stdout",
          "text": [
            "\n",
            "Early-Stopped Model Evaluation:\n",
            "Train Loss: 0.3192\n",
            "Val Loss:   0.5772\n",
            "Model was saved at epoch 521.\n"
          ]
        },
        {
          "output_type": "display_data",
          "data": {
            "text/plain": [
              "<Figure size 600x600 with 2 Axes>"
            ],
            "image/png": "[encoded data removed]"
          },
          "metadata": {}
        }
      ],
      "source": [
        "# Load and evaluate the final model\n",
        "model.load_state_dict(torch.load(final_model_path))\n",
        "final_train_loss = evaluate(train_loader)\n",
        "final_val_loss = evaluate(val_loader)\n",
        "\n",
        "print(\"Final Model Evaluation:\")\n",
        "print(f\"Train Loss: {final_train_loss:.4f}\")\n",
        "print(f\"Val Loss:   {final_val_loss:.4f}\")\n",
        "# Take a batch from validation (or train) set for visualization\n",
        "val_batch = next(iter(val_loader))\n",
        "val_batch = val_batch.to(device)\n",
        "with torch.no_grad():\n",
        "    _, val_embedding = model(val_batch.x.float(), val_batch.edge_index, val_batch.batch)\n",
        "plot_embeddings(val_embedding, val_batch.y, epoch)\n",
        "\n",
        "model.load_state_dict(torch.load(best_val_model_path))\n",
        "best_train_loss = evaluate(train_loader)\n",
        "best_val_loss_eval = evaluate(val_loader)\n",
        "\n",
        "print(\"\\nEarly-Stopped Model Evaluation:\")\n",
        "print(f\"Train Loss: {best_train_loss:.4f}\")\n",
        "print(f\"Val Loss:   {best_val_loss_eval:.4f}\")\n",
        "print(f\"Model was saved at epoch {best_epoch}.\")\n",
        "val_batch = val_batch.to(device)\n",
        "with torch.no_grad():\n",
        "    _, val_embedding = model(val_batch.x.float(), val_batch.edge_index, val_batch.batch)\n",
        "plot_embeddings(val_embedding, val_batch.y, best_epoch)"
      ]
    },
    {
      "cell_type": "code",
      "execution_count": 20,
      "metadata": {
        "colab": {
          "base_uri": "https://localhost:8080/",
          "height": 501
        },
        "id": "Z3Eh6uL15AYX",
        "outputId": "202abd71-2339-41f7-e628-bced22e31848"
      },
      "outputs": [
        {
          "output_type": "display_data",
          "data": {
            "text/plain": [
              "<Figure size 1000x500 with 1 Axes>"
            ],
            "image/png": "[encoded data removed]"
          },
          "metadata": {}
        }
      ],
      "source": [
        "import seaborn as sns\n",
        "\n",
        "# Make sure seaborn uses a clean style\n",
        "sns.set(style=\"whitegrid\")\n",
        "\n",
        "# X-axis: epoch numbers\n",
        "epochs = list(range(len(train_losses)))\n",
        "\n",
        "# Create the plot\n",
        "plt.figure(figsize=(10, 5))\n",
        "sns.lineplot(x=epochs, y=train_losses, label=\"Training Loss\")\n",
        "sns.lineplot(x=epochs, y=val_losses, label=\"Validation Loss\")\n",
        "\n",
        "# Add labels and title\n",
        "plt.xlabel(\"Epoch\")\n",
        "plt.ylabel(\"Loss\")\n",
        "plt.title(\"Training vs Validation Loss\")\n",
        "plt.legend()\n",
        "plt.tight_layout()\n",
        "plt.show()"
      ]
    },
    {
      "cell_type": "markdown",
      "metadata": {
        "id": "plirCWZL3RAQ"
      },
      "source": [
        "### Getting a test prediction"
      ]
    },
    {
      "cell_type": "code",
      "source": [
        "model.load_state_dict(torch.load(best_val_model_path))\n",
        "test_loss = evaluate(test_loader)\n",
        "print(\"Test Loss (MSE):\", test_loss)"
      ],
      "metadata": {
        "id": "sYaeOBAMJry0",
        "outputId": "511e5436-ca00-4fef-b43c-d61ab2ba9d0d",
        "colab": {
          "base_uri": "https://localhost:8080/"
        }
      },
      "execution_count": 21,
      "outputs": [
        {
          "output_type": "stream",
          "name": "stdout",
          "text": [
            "Test Loss (MSE): 0.7859915941953659\n"
          ]
        }
      ]
    },
    {
      "cell_type": "code",
      "execution_count": 22,
      "metadata": {
        "colab": {
          "base_uri": "https://localhost:8080/",
          "height": 424
        },
        "id": "mpnH7cf03Uxi",
        "outputId": "9991aa0d-a060-41d8-a94a-5d02a5617113"
      },
      "outputs": [
        {
          "output_type": "execute_result",
          "data": {
            "text/plain": [
              "    y_real    y_pred\n",
              "0   -5.190 -2.992440\n",
              "1   -0.660 -0.228553\n",
              "2   -4.100 -3.108396\n",
              "3   -3.900 -3.654856\n",
              "4   -4.720 -4.311226\n",
              "..     ...       ...\n",
              "59  -5.284 -4.358874\n",
              "60  -6.140 -6.148292\n",
              "61  -6.020 -4.978811\n",
              "62  -4.460 -3.455643\n",
              "63  -6.637 -4.876503\n",
              "\n",
              "[64 rows x 2 columns]"
            ],
            "text/html": [
              "\n",
              "  <div id=\"df-ba257a71-8f3f-4283-ae6e-17172b3c6b38\" class=\"colab-df-container\">\n",
              "    <div>\n",
              "<style scoped>\n",
              "    .dataframe tbody tr th:only-of-type {\n",
              "        vertical-align: middle;\n",
              "    }\n",
              "\n",
              "    .dataframe tbody tr th {\n",
              "        vertical-align: top;\n",
              "    }\n",
              "\n",
              "    .dataframe thead th {\n",
              "        text-align: right;\n",
              "    }\n",
              "</style>\n",
              "<table border=\"1\" class=\"dataframe\">\n",
              "  <thead>\n",
              "    <tr style=\"text-align: right;\">\n",
              "      <th></th>\n",
              "      <th>y_real</th>\n",
              "      <th>y_pred</th>\n",
              "    </tr>\n",
              "  </thead>\n",
              "  <tbody>\n",
              "    <tr>\n",
              "      <th>0</th>\n",
              "      <td>-5.190</td>\n",
              "      <td>-2.992440</td>\n",
              "    </tr>\n",
              "    <tr>\n",
              "      <th>1</th>\n",
              "      <td>-0.660</td>\n",
              "      <td>-0.228553</td>\n",
              "    </tr>\n",
              "    <tr>\n",
              "      <th>2</th>\n",
              "      <td>-4.100</td>\n",
              "      <td>-3.108396</td>\n",
              "    </tr>\n",
              "    <tr>\n",
              "      <th>3</th>\n",
              "      <td>-3.900</td>\n",
              "      <td>-3.654856</td>\n",
              "    </tr>\n",
              "    <tr>\n",
              "      <th>4</th>\n",
              "      <td>-4.720</td>\n",
              "      <td>-4.311226</td>\n",
              "    </tr>\n",
              "    <tr>\n",
              "      <th>...</th>\n",
              "      <td>...</td>\n",
              "      <td>...</td>\n",
              "    </tr>\n",
              "    <tr>\n",
              "      <th>59</th>\n",
              "      <td>-5.284</td>\n",
              "      <td>-4.358874</td>\n",
              "    </tr>\n",
              "    <tr>\n",
              "      <th>60</th>\n",
              "      <td>-6.140</td>\n",
              "      <td>-6.148292</td>\n",
              "    </tr>\n",
              "    <tr>\n",
              "      <th>61</th>\n",
              "      <td>-6.020</td>\n",
              "      <td>-4.978811</td>\n",
              "    </tr>\n",
              "    <tr>\n",
              "      <th>62</th>\n",
              "      <td>-4.460</td>\n",
              "      <td>-3.455643</td>\n",
              "    </tr>\n",
              "    <tr>\n",
              "      <th>63</th>\n",
              "      <td>-6.637</td>\n",
              "      <td>-4.876503</td>\n",
              "    </tr>\n",
              "  </tbody>\n",
              "</table>\n",
              "<p>64 rows × 2 columns</p>\n",
              "</div>\n",
              "    <div class=\"colab-df-buttons\">\n",
              "\n",
              "  <div class=\"colab-df-container\">\n",
              "    <button class=\"colab-df-convert\" onclick=\"convertToInteractive('df-ba257a71-8f3f-4283-ae6e-17172b3c6b38')\"\n",
              "            title=\"Convert this dataframe to an interactive table.\"\n",
              "            style=\"display:none;\">\n",
              "\n",
              "  <svg xmlns=\"http://www.w3.org/2000/svg\" height=\"24px\" viewBox=\"0 -960 960 960\">\n",
              "    <path d=\"M120-120v-720h720v720H120Zm60-500h600v-160H180v160Zm220 220h160v-160H400v160Zm0 220h160v-160H400v160ZM180-400h160v-160H180v160Zm440 0h160v-160H620v160ZM180-180h160v-160H180v160Zm440 0h160v-160H620v160Z\"/>\n",
              "  </svg>\n",
              "    </button>\n",
              "\n",
              "  <style>\n",
              "    .colab-df-container {\n",
              "      display:flex;\n",
              "      gap: 12px;\n",
              "    }\n",
              "\n",
              "    .colab-df-convert {\n",
              "      background-color: #E8F0FE;\n",
              "      border: none;\n",
              "      border-radius: 50%;\n",
              "      cursor: pointer;\n",
              "      display: none;\n",
              "      fill: #1967D2;\n",
              "      height: 32px;\n",
              "      padding: 0 0 0 0;\n",
              "      width: 32px;\n",
              "    }\n",
              "\n",
              "    .colab-df-convert:hover {\n",
              "      background-color: #E2EBFA;\n",
              "      box-shadow: 0px 1px 2px rgba(60, 64, 67, 0.3), 0px 1px 3px 1px rgba(60, 64, 67, 0.15);\n",
              "      fill: #174EA6;\n",
              "    }\n",
              "\n",
              "    .colab-df-buttons div {\n",
              "      margin-bottom: 4px;\n",
              "    }\n",
              "\n",
              "    [theme=dark] .colab-df-convert {\n",
              "      background-color: #3B4455;\n",
              "      fill: #D2E3FC;\n",
              "    }\n",
              "\n",
              "    [theme=dark] .colab-df-convert:hover {\n",
              "      background-color: #434B5C;\n",
              "      box-shadow: 0px 1px 3px 1px rgba(0, 0, 0, 0.15);\n",
              "      filter: drop-shadow(0px 1px 2px rgba(0, 0, 0, 0.3));\n",
              "      fill: #FFFFFF;\n",
              "    }\n",
              "  </style>\n",
              "\n",
              "    <script>\n",
              "      const buttonEl =\n",
              "        document.querySelector('#df-ba257a71-8f3f-4283-ae6e-17172b3c6b38 button.colab-df-convert');\n",
              "      buttonEl.style.display =\n",
              "        google.colab.kernel.accessAllowed ? 'block' : 'none';\n",
              "\n",
              "      async function convertToInteractive(key) {\n",
              "        const element = document.querySelector('#df-ba257a71-8f3f-4283-ae6e-17172b3c6b38');\n",
              "        const dataTable =\n",
              "          await google.colab.kernel.invokeFunction('convertToInteractive',\n",
              "                                                    [key], {});\n",
              "        if (!dataTable) return;\n",
              "\n",
              "        const docLinkHtml = 'Like what you see? Visit the ' +\n",
              "          '<a target=\"_blank\" href=https://colab.research.google.com/notebooks/data_table.ipynb>data table notebook</a>'\n",
              "          + ' to learn more about interactive tables.';\n",
              "        element.innerHTML = '';\n",
              "        dataTable['output_type'] = 'display_data';\n",
              "        await google.colab.output.renderOutput(dataTable, element);\n",
              "        const docLink = document.createElement('div');\n",
              "        docLink.innerHTML = docLinkHtml;\n",
              "        element.appendChild(docLink);\n",
              "      }\n",
              "    </script>\n",
              "  </div>\n",
              "\n",
              "\n",
              "<div id=\"df-5abc8883-4d6d-4110-989e-c44477d1221c\">\n",
              "  <button class=\"colab-df-quickchart\" onclick=\"quickchart('df-5abc8883-4d6d-4110-989e-c44477d1221c')\"\n",
              "            title=\"Suggest charts\"\n",
              "            style=\"display:none;\">\n",
              "\n",
              "<svg xmlns=\"http://www.w3.org/2000/svg\" height=\"24px\"viewBox=\"0 0 24 24\"\n",
              "     width=\"24px\">\n",
              "    <g>\n",
              "        <path d=\"M19 3H5c-1.1 0-2 .9-2 2v14c0 1.1.9 2 2 2h14c1.1 0 2-.9 2-2V5c0-1.1-.9-2-2-2zM9 17H7v-7h2v7zm4 0h-2V7h2v10zm4 0h-2v-4h2v4z\"/>\n",
              "    </g>\n",
              "</svg>\n",
              "  </button>\n",
              "\n",
              "<style>\n",
              "  .colab-df-quickchart {\n",
              "      --bg-color: #E8F0FE;\n",
              "      --fill-color: #1967D2;\n",
              "      --hover-bg-color: #E2EBFA;\n",
              "      --hover-fill-color: #174EA6;\n",
              "      --disabled-fill-color: #AAA;\n",
              "      --disabled-bg-color: #DDD;\n",
              "  }\n",
              "\n",
              "  [theme=dark] .colab-df-quickchart {\n",
              "      --bg-color: #3B4455;\n",
              "      --fill-color: #D2E3FC;\n",
              "      --hover-bg-color: #434B5C;\n",
              "      --hover-fill-color: #FFFFFF;\n",
              "      --disabled-bg-color: #3B4455;\n",
              "      --disabled-fill-color: #666;\n",
              "  }\n",
              "\n",
              "  .colab-df-quickchart {\n",
              "    background-color: var(--bg-color);\n",
              "    border: none;\n",
              "    border-radius: 50%;\n",
              "    cursor: pointer;\n",
              "    display: none;\n",
              "    fill: var(--fill-color);\n",
              "    height: 32px;\n",
              "    padding: 0;\n",
              "    width: 32px;\n",
              "  }\n",
              "\n",
              "  .colab-df-quickchart:hover {\n",
              "    background-color: var(--hover-bg-color);\n",
              "    box-shadow: 0 1px 2px rgba(60, 64, 67, 0.3), 0 1px 3px 1px rgba(60, 64, 67, 0.15);\n",
              "    fill: var(--button-hover-fill-color);\n",
              "  }\n",
              "\n",
              "  .colab-df-quickchart-complete:disabled,\n",
              "  .colab-df-quickchart-complete:disabled:hover {\n",
              "    background-color: var(--disabled-bg-color);\n",
              "    fill: var(--disabled-fill-color);\n",
              "    box-shadow: none;\n",
              "  }\n",
              "\n",
              "  .colab-df-spinner {\n",
              "    border: 2px solid var(--fill-color);\n",
              "    border-color: transparent;\n",
              "    border-bottom-color: var(--fill-color);\n",
              "    animation:\n",
              "      spin 1s steps(1) infinite;\n",
              "  }\n",
              "\n",
              "  @keyframes spin {\n",
              "    0% {\n",
              "      border-color: transparent;\n",
              "      border-bottom-color: var(--fill-color);\n",
              "      border-left-color: var(--fill-color);\n",
              "    }\n",
              "    20% {\n",
              "      border-color: transparent;\n",
              "      border-left-color: var(--fill-color);\n",
              "      border-top-color: var(--fill-color);\n",
              "    }\n",
              "    30% {\n",
              "      border-color: transparent;\n",
              "      border-left-color: var(--fill-color);\n",
              "      border-top-color: var(--fill-color);\n",
              "      border-right-color: var(--fill-color);\n",
              "    }\n",
              "    40% {\n",
              "      border-color: transparent;\n",
              "      border-right-color: var(--fill-color);\n",
              "      border-top-color: var(--fill-color);\n",
              "    }\n",
              "    60% {\n",
              "      border-color: transparent;\n",
              "      border-right-color: var(--fill-color);\n",
              "    }\n",
              "    80% {\n",
              "      border-color: transparent;\n",
              "      border-right-color: var(--fill-color);\n",
              "      border-bottom-color: var(--fill-color);\n",
              "    }\n",
              "    90% {\n",
              "      border-color: transparent;\n",
              "      border-bottom-color: var(--fill-color);\n",
              "    }\n",
              "  }\n",
              "</style>\n",
              "\n",
              "  <script>\n",
              "    async function quickchart(key) {\n",
              "      const quickchartButtonEl =\n",
              "        document.querySelector('#' + key + ' button');\n",
              "      quickchartButtonEl.disabled = true;  // To prevent multiple clicks.\n",
              "      quickchartButtonEl.classList.add('colab-df-spinner');\n",
              "      try {\n",
              "        const charts = await google.colab.kernel.invokeFunction(\n",
              "            'suggestCharts', [key], {});\n",
              "      } catch (error) {\n",
              "        console.error('Error during call to suggestCharts:', error);\n",
              "      }\n",
              "      quickchartButtonEl.classList.remove('colab-df-spinner');\n",
              "      quickchartButtonEl.classList.add('colab-df-quickchart-complete');\n",
              "    }\n",
              "    (() => {\n",
              "      let quickchartButtonEl =\n",
              "        document.querySelector('#df-5abc8883-4d6d-4110-989e-c44477d1221c button');\n",
              "      quickchartButtonEl.style.display =\n",
              "        google.colab.kernel.accessAllowed ? 'block' : 'none';\n",
              "    })();\n",
              "  </script>\n",
              "</div>\n",
              "\n",
              "  <div id=\"id_882b7970-52ff-40aa-a150-84f6550acd26\">\n",
              "    <style>\n",
              "      .colab-df-generate {\n",
              "        background-color: #E8F0FE;\n",
              "        border: none;\n",
              "        border-radius: 50%;\n",
              "        cursor: pointer;\n",
              "        display: none;\n",
              "        fill: #1967D2;\n",
              "        height: 32px;\n",
              "        padding: 0 0 0 0;\n",
              "        width: 32px;\n",
              "      }\n",
              "\n",
              "      .colab-df-generate:hover {\n",
              "        background-color: #E2EBFA;\n",
              "        box-shadow: 0px 1px 2px rgba(60, 64, 67, 0.3), 0px 1px 3px 1px rgba(60, 64, 67, 0.15);\n",
              "        fill: #174EA6;\n",
              "      }\n",
              "\n",
              "      [theme=dark] .colab-df-generate {\n",
              "        background-color: #3B4455;\n",
              "        fill: #D2E3FC;\n",
              "      }\n",
              "\n",
              "      [theme=dark] .colab-df-generate:hover {\n",
              "        background-color: #434B5C;\n",
              "        box-shadow: 0px 1px 3px 1px rgba(0, 0, 0, 0.15);\n",
              "        filter: drop-shadow(0px 1px 2px rgba(0, 0, 0, 0.3));\n",
              "        fill: #FFFFFF;\n",
              "      }\n",
              "    </style>\n",
              "    <button class=\"colab-df-generate\" onclick=\"generateWithVariable('df')\"\n",
              "            title=\"Generate code using this dataframe.\"\n",
              "            style=\"display:none;\">\n",
              "\n",
              "  <svg xmlns=\"http://www.w3.org/2000/svg\" height=\"24px\"viewBox=\"0 0 24 24\"\n",
              "       width=\"24px\">\n",
              "    <path d=\"M7,19H8.4L18.45,9,17,7.55,7,17.6ZM5,21V16.75L18.45,3.32a2,2,0,0,1,2.83,0l1.4,1.43a1.91,1.91,0,0,1,.58,1.4,1.91,1.91,0,0,1-.58,1.4L9.25,21ZM18.45,9,17,7.55Zm-12,3A5.31,5.31,0,0,0,4.9,8.1,5.31,5.31,0,0,0,1,6.5,5.31,5.31,0,0,0,4.9,4.9,5.31,5.31,0,0,0,6.5,1,5.31,5.31,0,0,0,8.1,4.9,5.31,5.31,0,0,0,12,6.5,5.46,5.46,0,0,0,6.5,12Z\"/>\n",
              "  </svg>\n",
              "    </button>\n",
              "    <script>\n",
              "      (() => {\n",
              "      const buttonEl =\n",
              "        document.querySelector('#id_882b7970-52ff-40aa-a150-84f6550acd26 button.colab-df-generate');\n",
              "      buttonEl.style.display =\n",
              "        google.colab.kernel.accessAllowed ? 'block' : 'none';\n",
              "\n",
              "      buttonEl.onclick = () => {\n",
              "        google.colab.notebook.generateWithVariable('df');\n",
              "      }\n",
              "      })();\n",
              "    </script>\n",
              "  </div>\n",
              "\n",
              "    </div>\n",
              "  </div>\n"
            ],
            "application/vnd.google.colaboratory.intrinsic+json": {
              "type": "dataframe",
              "variable_name": "df",
              "summary": "{\n  \"name\": \"df\",\n  \"rows\": 64,\n  \"fields\": [\n    {\n      \"column\": \"y_real\",\n      \"properties\": {\n        \"dtype\": \"number\",\n        \"std\": 1.9217577090110662,\n        \"min\": -7.389999866485596,\n        \"max\": 0.46000000834465027,\n        \"num_unique_values\": 64,\n        \"samples\": [\n          0.3799999952316284,\n          -4.230000019073486,\n          -5.190000057220459\n        ],\n        \"semantic_type\": \"\",\n        \"description\": \"\"\n      }\n    },\n    {\n      \"column\": \"y_pred\",\n      \"properties\": {\n        \"dtype\": \"number\",\n        \"std\": 1.9181337000719663,\n        \"min\": -7.731994152069092,\n        \"max\": 1.2372444868087769,\n        \"num_unique_values\": 64,\n        \"samples\": [\n          -0.31255701184272766,\n          -4.088797569274902,\n          -2.9924404621124268\n        ],\n        \"semantic_type\": \"\",\n        \"description\": \"\"\n      }\n    }\n  ]\n}"
            }
          },
          "metadata": {},
          "execution_count": 22
        }
      ],
      "source": [
        "import pandas as pd\n",
        "\n",
        "# Analyze the results for one batch\n",
        "test_batch = next(iter(test_loader))\n",
        "with torch.no_grad():\n",
        "    test_batch.to(device)\n",
        "    pred, embed = model(test_batch.x.float(), test_batch.edge_index, test_batch.batch)\n",
        "    df = pd.DataFrame()\n",
        "    df[\"y_real\"] = test_batch.y.tolist()\n",
        "    df[\"y_pred\"] = pred.tolist()\n",
        "df[\"y_real\"] = df[\"y_real\"].apply(lambda row: row[0])\n",
        "df[\"y_pred\"] = df[\"y_pred\"].apply(lambda row: row[0])\n",
        "df"
      ]
    },
    {
      "cell_type": "code",
      "execution_count": 23,
      "metadata": {
        "colab": {
          "base_uri": "https://localhost:8080/",
          "height": 464
        },
        "id": "1BEIQNTF8Qei",
        "outputId": "fc0aca10-2333-4264-91f8-683d9f816cdb"
      },
      "outputs": [
        {
          "output_type": "display_data",
          "data": {
            "text/plain": [
              "<Figure size 640x480 with 1 Axes>"
            ],
            "image/png": "[encoded data removed]"
          },
          "metadata": {}
        }
      ],
      "source": [
        "ax = sns.scatterplot(data=df, x=\"y_real\", y=\"y_pred\")\n",
        "ax.set_xlim(-7, 2)\n",
        "ax.set_ylim(-7, 2)\n",
        "plt.show()"
      ]
    },
    {
      "cell_type": "markdown",
      "metadata": {
        "id": "BQnbktyWU3r3"
      },
      "source": [
        "## Improving the model"
      ]
    },
    {
      "cell_type": "markdown",
      "metadata": {
        "id": "aT_7Sn88orPA"
      },
      "source": [
        "For example add:\n",
        "- Dropouts\n",
        "- Other (more intelligent) Pooling Layers (all layers here: https://pytorch-geometric.readthedocs.io/en/latest/modules/nn.html#)\n",
        "- Global Pooling Layers\n",
        "- Batch Normalization\n",
        "- More MP layers\n",
        "- Other hidden state sizes\n",
        "- Test metrics (test error) and Hyperparameter optimization\n",
        "- ReLu instead tanh\n",
        "- Cross-validation\n",
        "- GINConv / GATConv / GraphSAGE instead or combined with GCNconv"
      ]
    },
    {
      "cell_type": "code",
      "execution_count": 24,
      "metadata": {
        "colab": {
          "base_uri": "https://localhost:8080/"
        },
        "id": "3ctjrbtvZBxY",
        "outputId": "0343aeaa-dc91-4c41-f733-e1e551ac8a14"
      },
      "outputs": [
        {
          "output_type": "stream",
          "name": "stdout",
          "text": [
            "GCN(\n",
            "  (initial_conv): GCNConv(9, 64)\n",
            "  (bn0): BatchNorm1d(64, eps=1e-05, momentum=0.1, affine=True, track_running_stats=True)\n",
            "  (conv1): GCNConv(64, 64)\n",
            "  (bn1): BatchNorm1d(64, eps=1e-05, momentum=0.1, affine=True, track_running_stats=True)\n",
            "  (conv2): GCNConv(64, 64)\n",
            "  (bn2): BatchNorm1d(64, eps=1e-05, momentum=0.1, affine=True, track_running_stats=True)\n",
            "  (conv3): GCNConv(64, 64)\n",
            "  (bn3): BatchNorm1d(64, eps=1e-05, momentum=0.1, affine=True, track_running_stats=True)\n",
            "  (dropout): Dropout(p=0.3, inplace=False)\n",
            "  (out): Linear(in_features=128, out_features=1, bias=True)\n",
            ")\n",
            "Number of parameters:  13761\n"
          ]
        }
      ],
      "source": [
        "import torch\n",
        "import torch.nn.functional as F\n",
        "from torch.nn import Linear, Dropout, BatchNorm1d\n",
        "from torch_geometric.nn import GCNConv, TopKPooling, SAGPooling, global_mean_pool, global_max_pool\n",
        "\n",
        "class GCN(torch.nn.Module):\n",
        "    def __init__(self, in_channels, embedding_size=64, dropout_rate=0.3, pooling_type=\"mean+max\"):\n",
        "        super(GCN, self).__init__()\n",
        "\n",
        "        self.embedding_size = embedding_size\n",
        "        self.pooling_type = pooling_type\n",
        "\n",
        "        # GCN layers\n",
        "        self.initial_conv = GCNConv(in_channels, embedding_size)\n",
        "        self.bn0 = BatchNorm1d(embedding_size)\n",
        "\n",
        "        self.conv1 = GCNConv(embedding_size, embedding_size)\n",
        "        self.bn1 = BatchNorm1d(embedding_size)\n",
        "\n",
        "        self.conv2 = GCNConv(embedding_size, embedding_size)\n",
        "        self.bn2 = BatchNorm1d(embedding_size)\n",
        "\n",
        "        self.conv3 = GCNConv(embedding_size, embedding_size)\n",
        "        self.bn3 = BatchNorm1d(embedding_size)\n",
        "\n",
        "        self.dropout = Dropout(dropout_rate)\n",
        "\n",
        "        # Optional: intelligent pooling layer (uncomment to test)\n",
        "        # self.pool = SAGPooling(embedding_size, ratio=0.5)\n",
        "\n",
        "        # Output layer\n",
        "        if pooling_type == \"mean+max\":\n",
        "            self.out = Linear(embedding_size * 2, 1)\n",
        "        else:\n",
        "            self.out = Linear(embedding_size, 1)\n",
        "\n",
        "    def forward(self, x, edge_index, batch_index):\n",
        "        # Initial GCN + BN + activation\n",
        "        hidden = self.initial_conv(x, edge_index)\n",
        "        hidden = self.bn0(hidden)\n",
        "        hidden = F.tanh(hidden)\n",
        "\n",
        "        hidden = self.conv1(hidden, edge_index)\n",
        "        hidden = self.bn1(hidden)\n",
        "        hidden = F.tanh(hidden)\n",
        "\n",
        "        hidden = self.conv2(hidden, edge_index)\n",
        "        hidden = self.bn2(hidden)\n",
        "        hidden = F.tanh(hidden)\n",
        "\n",
        "        hidden = self.conv3(hidden, edge_index)\n",
        "        hidden = self.bn3(hidden)\n",
        "        hidden = F.tanh(hidden)\n",
        "\n",
        "        # Intelligent pooling alternative (e.g., SAGPooling)\n",
        "        # hidden, edge_index, _, batch_index, _, _ = self.pool(hidden, edge_index, None, batch_index)\n",
        "\n",
        "        # Global Pooling\n",
        "        if self.pooling_type == \"mean+max\":\n",
        "            pooled = torch.cat([global_mean_pool(hidden, batch_index),\n",
        "                                global_max_pool(hidden, batch_index)], dim=1)\n",
        "        elif self.pooling_type == \"mean\":\n",
        "            pooled = global_mean_pool(hidden, batch_index)\n",
        "        elif self.pooling_type == \"max\":\n",
        "            pooled = global_max_pool(hidden, batch_index)\n",
        "        else:\n",
        "            raise ValueError(\"Unsupported pooling type\")\n",
        "\n",
        "        pooled = self.dropout(pooled)\n",
        "\n",
        "        # Final output\n",
        "        out = self.out(pooled)\n",
        "\n",
        "        return out, pooled  # Return both prediction and graph embedding\n",
        "\n",
        "\n",
        "# Example usage (fill in the actual number of features in your data)\n",
        "model = GCN(in_channels=data.num_features, embedding_size=64, dropout_rate=0.3, pooling_type=\"mean+max\")\n",
        "print(model)\n",
        "print(\"Number of parameters: \", sum(p.numel() for p in model.parameters()))\n"
      ]
    },
    {
      "cell_type": "markdown",
      "metadata": {
        "id": "C_T0662McLn2"
      },
      "source": [
        "More or less same number of parameters, execute again training to see improved performance"
      ]
    }
  ],
  "metadata": {
    "accelerator": "GPU",
    "colab": {
      "collapsed_sections": [
        "c02WfHo9ZU51",
        "cSTDAc0jZTON",
        "GMDvh1OKeuYP",
        "HBodIcNlfqOF",
        "vf_KuYZmnRgn",
        "BQnbktyWU3r3"
      ],
      "provenance": [],
      "include_colab_link": true
    },
    "kernelspec": {
      "display_name": "Python 3 (ipykernel)",
      "language": "python",
      "name": "python3"
    },
    "language_info": {
      "codemirror_mode": {
        "name": "ipython",
        "version": 3
      },
      "file_extension": ".py",
      "mimetype": "text/x-python",
      "name": "python",
      "nbconvert_exporter": "python",
      "pygments_lexer": "ipython3",
      "version": "3.8.6"
    }
  },
  "nbformat": 4,
  "nbformat_minor": 0
}