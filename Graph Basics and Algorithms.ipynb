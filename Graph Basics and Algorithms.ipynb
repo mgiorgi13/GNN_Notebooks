{
 "cells": [
  {
   "cell_type": "code",
   "execution_count": null,
   "metadata": {},
   "outputs": [],
   "source": [
    "import networkx as nx\n",
    "import numpy as np\n",
    "import matplotlib.pyplot as plt\n",
    "\n",
    "# Creazione di un grafo semplice\n",
    "G = nx.Graph()\n",
    "G.add_edges_from([(0, 1), (0, 2), (1, 2), (1, 3), (3, 4)])\n",
    "\n",
    "# Visualizzazione del grafo\n",
    "plt.figure(figsize=(5, 5))\n",
    "nx.draw(G, with_labels=True, node_color='lightblue', edge_color='gray', node_size=1500, font_size=12)\n",
    "plt.title(\"Grafo di esempio\")\n",
    "plt.show()"
   ]
  },
  {
   "cell_type": "code",
   "execution_count": null,
   "metadata": {},
   "outputs": [],
   "source": [
    "# Calcolo della matrice di adiacenza\n",
    "adj_matrix = nx.adjacency_matrix(G).todense()\n",
    "print(\"Matrice di adiacenza:\\n\", adj_matrix)"
   ]
  },
  {
   "cell_type": "code",
   "execution_count": null,
   "metadata": {},
   "outputs": [],
   "source": [
    "# Algoritmo di cammino minimo (Dijkstra)\n",
    "shortest_paths = nx.shortest_path_length(G, source=0)\n",
    "print(\"Distanze minime dal nodo 0:\", dict(shortest_paths))"
   ]
  },
  {
   "cell_type": "code",
   "execution_count": null,
   "metadata": {},
   "outputs": [],
   "source": [
    "# Algoritmo PageRank\n",
    "pagerank = nx.pagerank(G)\n",
    "print(\"PageRank:\", pagerank)"
   ]
  },
  {
   "cell_type": "code",
   "execution_count": null,
   "metadata": {},
   "outputs": [],
   "source": [
    "# Algoritmo Bellman-Ford (per cammini minimi con pesi negativi)\n",
    "G_weighted = nx.DiGraph()\n",
    "G_weighted.add_weighted_edges_from([(0, 1, 4), (0, 2, 1), (2, 1, 2), (1, 3, 5), (3, 4, 3)])\n",
    "bellman_ford_paths = nx.single_source_bellman_ford_path_length(G_weighted, source=0)\n",
    "print(\"Distanze minime con Bellman-Ford:\", bellman_ford_paths)"
   ]
  },
  {
   "cell_type": "code",
   "execution_count": null,
   "metadata": {},
   "outputs": [],
   "source": [
    "# Ricerca nel grafo - BFS e DFS\n",
    "bfs_tree = nx.bfs_tree(G, source=0)\n",
    "dfs_tree = nx.dfs_tree(G, source=0)\n",
    "\n",
    "plt.figure(figsize=(5, 5))\n",
    "nx.draw(bfs_tree, with_labels=True, node_color='lightcoral', edge_color='gray', node_size=1500, font_size=12)\n",
    "plt.title(\"Albero BFS\")\n",
    "plt.show()\n",
    "\n",
    "plt.figure(figsize=(5, 5))\n",
    "nx.draw(dfs_tree, with_labels=True, node_color='lightblue', edge_color='gray', node_size=1500, font_size=12)\n",
    "plt.title(\"Albero DFS\")\n",
    "plt.show()"
   ]
  }
 ],
 "metadata": {
  "language_info": {
   "name": "python"
  }
 },
 "nbformat": 4,
 "nbformat_minor": 2
}
